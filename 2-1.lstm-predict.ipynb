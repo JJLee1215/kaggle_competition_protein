{
 "cells": [
  {
   "cell_type": "code",
   "execution_count": 1,
   "id": "054016d1",
   "metadata": {
    "_cell_guid": "b1076dfc-b9ad-4769-8c92-a6c4dae69d19",
    "_uuid": "8f2839f25d086af736a60e9eeb907d3b93b6e0e5",
    "execution": {
     "iopub.execute_input": "2023-08-20T12:22:10.195302Z",
     "iopub.status.busy": "2023-08-20T12:22:10.194847Z",
     "iopub.status.idle": "2023-08-20T12:22:10.248878Z",
     "shell.execute_reply": "2023-08-20T12:22:10.246912Z"
    },
    "papermill": {
     "duration": 0.074955,
     "end_time": "2023-08-20T12:22:10.251698",
     "exception": false,
     "start_time": "2023-08-20T12:22:10.176743",
     "status": "completed"
    },
    "tags": []
   },
   "outputs": [
    {
     "name": "stdout",
     "output_type": "stream",
     "text": [
      "/kaggle/input/t5embeds/train_ids.npy\n",
      "/kaggle/input/t5embeds/test_embeds.npy\n",
      "/kaggle/input/t5embeds/train_embeds.npy\n",
      "/kaggle/input/t5embeds/test_ids.npy\n",
      "/kaggle/input/cafa5-test/id_seq_aspect_tokenized.csv\n",
      "/kaggle/input/cafa5-test/model_CNN_LSTM.h5\n",
      "/kaggle/input/cafa5-test/predictions.npy\n",
      "/kaggle/input/cafa-5-protein-function-prediction/sample_submission.tsv\n",
      "/kaggle/input/cafa-5-protein-function-prediction/IA.txt\n",
      "/kaggle/input/cafa-5-protein-function-prediction/Test (Targets)/testsuperset.fasta\n",
      "/kaggle/input/cafa-5-protein-function-prediction/Test (Targets)/testsuperset-taxon-list.tsv\n",
      "/kaggle/input/cafa-5-protein-function-prediction/Train/train_terms.tsv\n",
      "/kaggle/input/cafa-5-protein-function-prediction/Train/train_sequences.fasta\n",
      "/kaggle/input/cafa-5-protein-function-prediction/Train/train_taxonomy.tsv\n",
      "/kaggle/input/cafa-5-protein-function-prediction/Train/go-basic.obo\n"
     ]
    }
   ],
   "source": [
    "# This Python 3 environment comes with many helpful analytics libraries installed\n",
    "# It is defined by the kaggle/python Docker image: https://github.com/kaggle/docker-python\n",
    "# For example, here's several helpful packages to load\n",
    "\n",
    "import numpy as np # linear algebra\n",
    "import pandas as pd # data processing, CSV file I/O (e.g. pd.read_csv)\n",
    "\n",
    "# Input data files are available in the read-only \"../input/\" directory\n",
    "# For example, running this (by clicking run or pressing Shift+Enter) will list all files under the input directory\n",
    "\n",
    "import os\n",
    "for dirname, _, filenames in os.walk('/kaggle/input'):\n",
    "    for filename in filenames:\n",
    "        print(os.path.join(dirname, filename))\n",
    "\n",
    "# You can write up to 20GB to the current directory (/kaggle/working/) that gets preserved as output when you create a version using \"Save & Run All\" \n",
    "# You can also write temporary files to /kaggle/temp/, but they won't be saved outside of the current session"
   ]
  },
  {
   "cell_type": "code",
   "execution_count": 2,
   "id": "a4f20b15",
   "metadata": {
    "execution": {
     "iopub.execute_input": "2023-08-20T12:22:10.285089Z",
     "iopub.status.busy": "2023-08-20T12:22:10.284657Z",
     "iopub.status.idle": "2023-08-20T12:22:21.925852Z",
     "shell.execute_reply": "2023-08-20T12:22:21.924559Z"
    },
    "papermill": {
     "duration": 11.661329,
     "end_time": "2023-08-20T12:22:21.928838",
     "exception": false,
     "start_time": "2023-08-20T12:22:10.267509",
     "status": "completed"
    },
    "tags": []
   },
   "outputs": [
    {
     "name": "stderr",
     "output_type": "stream",
     "text": [
      "/opt/conda/lib/python3.10/site-packages/scipy/__init__.py:146: UserWarning: A NumPy version >=1.16.5 and <1.23.0 is required for this version of SciPy (detected version 1.23.5\n",
      "  warnings.warn(f\"A NumPy version >={np_minversion} and <{np_maxversion}\"\n",
      "/opt/conda/lib/python3.10/site-packages/tensorflow_io/python/ops/__init__.py:98: UserWarning: unable to load libtensorflow_io_plugins.so: unable to open file: libtensorflow_io_plugins.so, from paths: ['/opt/conda/lib/python3.10/site-packages/tensorflow_io/python/ops/libtensorflow_io_plugins.so']\n",
      "caused by: ['/opt/conda/lib/python3.10/site-packages/tensorflow_io/python/ops/libtensorflow_io_plugins.so: undefined symbol: _ZN3tsl6StatusC1EN10tensorflow5error4CodeESt17basic_string_viewIcSt11char_traitsIcEENS_14SourceLocationE']\n",
      "  warnings.warn(f\"unable to load libtensorflow_io_plugins.so: {e}\")\n",
      "/opt/conda/lib/python3.10/site-packages/tensorflow_io/python/ops/__init__.py:104: UserWarning: file system plugins are not loaded: unable to open file: libtensorflow_io.so, from paths: ['/opt/conda/lib/python3.10/site-packages/tensorflow_io/python/ops/libtensorflow_io.so']\n",
      "caused by: ['/opt/conda/lib/python3.10/site-packages/tensorflow_io/python/ops/libtensorflow_io.so: undefined symbol: _ZTVN10tensorflow13GcsFileSystemE']\n",
      "  warnings.warn(f\"file system plugins are not loaded: {e}\")\n"
     ]
    }
   ],
   "source": [
    "import tensorflow as tf\n",
    "import seaborn as sns\n",
    "import matplotlib.pyplot as plt\n",
    "import progressbar"
   ]
  },
  {
   "cell_type": "markdown",
   "id": "9ff78f72",
   "metadata": {
    "papermill": {
     "duration": 0.015803,
     "end_time": "2023-08-20T12:22:21.960700",
     "exception": false,
     "start_time": "2023-08-20T12:22:21.944897",
     "status": "completed"
    },
    "tags": []
   },
   "source": [
    "## Load Data"
   ]
  },
  {
   "cell_type": "code",
   "execution_count": 3,
   "id": "7645ac68",
   "metadata": {
    "execution": {
     "iopub.execute_input": "2023-08-20T12:22:21.995316Z",
     "iopub.status.busy": "2023-08-20T12:22:21.994457Z",
     "iopub.status.idle": "2023-08-20T12:22:36.406600Z",
     "shell.execute_reply": "2023-08-20T12:22:36.405007Z"
    },
    "papermill": {
     "duration": 14.433255,
     "end_time": "2023-08-20T12:22:36.409877",
     "exception": false,
     "start_time": "2023-08-20T12:22:21.976622",
     "status": "completed"
    },
    "tags": []
   },
   "outputs": [],
   "source": [
    "#Load Data \n",
    "#Terms for each protein fold\n",
    "train_terms = pd.read_csv('/kaggle/input/cafa-5-protein-function-prediction/Train/train_terms.tsv',sep='\\t')\n",
    "#Embeddings for each aminoacid_sequence\n",
    "train_embeddings = np.load('/kaggle/input/t5embeds/train_embeds.npy')\n",
    "#Protein ID's for the embeddings\n",
    "train_id = np.load('/kaggle/input/t5embeds/train_ids.npy')"
   ]
  },
  {
   "cell_type": "code",
   "execution_count": 4,
   "id": "93cff03f",
   "metadata": {
    "execution": {
     "iopub.execute_input": "2023-08-20T12:22:36.446599Z",
     "iopub.status.busy": "2023-08-20T12:22:36.445807Z",
     "iopub.status.idle": "2023-08-20T12:22:36.456280Z",
     "shell.execute_reply": "2023-08-20T12:22:36.454935Z"
    },
    "papermill": {
     "duration": 0.032813,
     "end_time": "2023-08-20T12:22:36.459118",
     "exception": false,
     "start_time": "2023-08-20T12:22:36.426305",
     "status": "completed"
    },
    "tags": []
   },
   "outputs": [
    {
     "data": {
      "text/plain": [
       "((142246,), (142246, 1024))"
      ]
     },
     "execution_count": 4,
     "metadata": {},
     "output_type": "execute_result"
    }
   ],
   "source": [
    "train_id.shape,train_embeddings.shape"
   ]
  },
  {
   "cell_type": "code",
   "execution_count": 5,
   "id": "5f149d32",
   "metadata": {
    "execution": {
     "iopub.execute_input": "2023-08-20T12:22:36.496166Z",
     "iopub.status.busy": "2023-08-20T12:22:36.495660Z",
     "iopub.status.idle": "2023-08-20T12:22:36.535301Z",
     "shell.execute_reply": "2023-08-20T12:22:36.533848Z"
    },
    "papermill": {
     "duration": 0.061182,
     "end_time": "2023-08-20T12:22:36.538627",
     "exception": false,
     "start_time": "2023-08-20T12:22:36.477445",
     "status": "completed"
    },
    "tags": []
   },
   "outputs": [],
   "source": [
    "# Convert embeddings numpy array(train_embeddings) into pandas dataframe.\n",
    "column_num = train_embeddings.shape[1]\n",
    "train_df = pd.DataFrame(train_embeddings, columns = [\"Column_\" + str(i) for i in range(1, column_num+1)])\n",
    "train_df['ID'] = train_id"
   ]
  },
  {
   "cell_type": "markdown",
   "id": "1c738c17",
   "metadata": {
    "papermill": {
     "duration": 0.0178,
     "end_time": "2023-08-20T12:22:36.573139",
     "exception": false,
     "start_time": "2023-08-20T12:22:36.555339",
     "status": "completed"
    },
    "tags": []
   },
   "source": [
    "## Exploratory Analysis"
   ]
  },
  {
   "cell_type": "code",
   "execution_count": 6,
   "id": "a5e132c1",
   "metadata": {
    "execution": {
     "iopub.execute_input": "2023-08-20T12:22:36.608261Z",
     "iopub.status.busy": "2023-08-20T12:22:36.607389Z",
     "iopub.status.idle": "2023-08-20T12:22:36.628648Z",
     "shell.execute_reply": "2023-08-20T12:22:36.627115Z"
    },
    "papermill": {
     "duration": 0.041767,
     "end_time": "2023-08-20T12:22:36.631416",
     "exception": false,
     "start_time": "2023-08-20T12:22:36.589649",
     "status": "completed"
    },
    "tags": []
   },
   "outputs": [
    {
     "data": {
      "text/html": [
       "<div>\n",
       "<style scoped>\n",
       "    .dataframe tbody tr th:only-of-type {\n",
       "        vertical-align: middle;\n",
       "    }\n",
       "\n",
       "    .dataframe tbody tr th {\n",
       "        vertical-align: top;\n",
       "    }\n",
       "\n",
       "    .dataframe thead th {\n",
       "        text-align: right;\n",
       "    }\n",
       "</style>\n",
       "<table border=\"1\" class=\"dataframe\">\n",
       "  <thead>\n",
       "    <tr style=\"text-align: right;\">\n",
       "      <th></th>\n",
       "      <th>EntryID</th>\n",
       "      <th>term</th>\n",
       "      <th>aspect</th>\n",
       "    </tr>\n",
       "  </thead>\n",
       "  <tbody>\n",
       "    <tr>\n",
       "      <th>0</th>\n",
       "      <td>A0A009IHW8</td>\n",
       "      <td>GO:0008152</td>\n",
       "      <td>BPO</td>\n",
       "    </tr>\n",
       "    <tr>\n",
       "      <th>1</th>\n",
       "      <td>A0A009IHW8</td>\n",
       "      <td>GO:0034655</td>\n",
       "      <td>BPO</td>\n",
       "    </tr>\n",
       "    <tr>\n",
       "      <th>2</th>\n",
       "      <td>A0A009IHW8</td>\n",
       "      <td>GO:0072523</td>\n",
       "      <td>BPO</td>\n",
       "    </tr>\n",
       "    <tr>\n",
       "      <th>3</th>\n",
       "      <td>A0A009IHW8</td>\n",
       "      <td>GO:0044270</td>\n",
       "      <td>BPO</td>\n",
       "    </tr>\n",
       "    <tr>\n",
       "      <th>4</th>\n",
       "      <td>A0A009IHW8</td>\n",
       "      <td>GO:0006753</td>\n",
       "      <td>BPO</td>\n",
       "    </tr>\n",
       "    <tr>\n",
       "      <th>...</th>\n",
       "      <td>...</td>\n",
       "      <td>...</td>\n",
       "      <td>...</td>\n",
       "    </tr>\n",
       "    <tr>\n",
       "      <th>5363858</th>\n",
       "      <td>X5L565</td>\n",
       "      <td>GO:0050649</td>\n",
       "      <td>MFO</td>\n",
       "    </tr>\n",
       "    <tr>\n",
       "      <th>5363859</th>\n",
       "      <td>X5L565</td>\n",
       "      <td>GO:0016491</td>\n",
       "      <td>MFO</td>\n",
       "    </tr>\n",
       "    <tr>\n",
       "      <th>5363860</th>\n",
       "      <td>X5M5N0</td>\n",
       "      <td>GO:0005515</td>\n",
       "      <td>MFO</td>\n",
       "    </tr>\n",
       "    <tr>\n",
       "      <th>5363861</th>\n",
       "      <td>X5M5N0</td>\n",
       "      <td>GO:0005488</td>\n",
       "      <td>MFO</td>\n",
       "    </tr>\n",
       "    <tr>\n",
       "      <th>5363862</th>\n",
       "      <td>X5M5N0</td>\n",
       "      <td>GO:0003674</td>\n",
       "      <td>MFO</td>\n",
       "    </tr>\n",
       "  </tbody>\n",
       "</table>\n",
       "<p>5363863 rows × 3 columns</p>\n",
       "</div>"
      ],
      "text/plain": [
       "            EntryID        term aspect\n",
       "0        A0A009IHW8  GO:0008152    BPO\n",
       "1        A0A009IHW8  GO:0034655    BPO\n",
       "2        A0A009IHW8  GO:0072523    BPO\n",
       "3        A0A009IHW8  GO:0044270    BPO\n",
       "4        A0A009IHW8  GO:0006753    BPO\n",
       "...             ...         ...    ...\n",
       "5363858      X5L565  GO:0050649    MFO\n",
       "5363859      X5L565  GO:0016491    MFO\n",
       "5363860      X5M5N0  GO:0005515    MFO\n",
       "5363861      X5M5N0  GO:0005488    MFO\n",
       "5363862      X5M5N0  GO:0003674    MFO\n",
       "\n",
       "[5363863 rows x 3 columns]"
      ]
     },
     "execution_count": 6,
     "metadata": {},
     "output_type": "execute_result"
    }
   ],
   "source": [
    "train_terms"
   ]
  },
  {
   "cell_type": "code",
   "execution_count": 7,
   "id": "47eeb862",
   "metadata": {
    "execution": {
     "iopub.execute_input": "2023-08-20T12:22:36.667876Z",
     "iopub.status.busy": "2023-08-20T12:22:36.667413Z",
     "iopub.status.idle": "2023-08-20T12:22:37.256428Z",
     "shell.execute_reply": "2023-08-20T12:22:37.254794Z"
    },
    "papermill": {
     "duration": 0.610624,
     "end_time": "2023-08-20T12:22:37.259285",
     "exception": false,
     "start_time": "2023-08-20T12:22:36.648661",
     "status": "completed"
    },
    "tags": []
   },
   "outputs": [
    {
     "data": {
      "text/plain": [
       "(31466,)"
      ]
     },
     "execution_count": 7,
     "metadata": {},
     "output_type": "execute_result"
    }
   ],
   "source": [
    "train_terms['term'].unique().shape"
   ]
  },
  {
   "cell_type": "code",
   "execution_count": 8,
   "id": "9a839e8e",
   "metadata": {
    "execution": {
     "iopub.execute_input": "2023-08-20T12:22:37.294537Z",
     "iopub.status.busy": "2023-08-20T12:22:37.294052Z",
     "iopub.status.idle": "2023-08-20T12:22:37.442336Z",
     "shell.execute_reply": "2023-08-20T12:22:37.441070Z"
    },
    "papermill": {
     "duration": 0.169378,
     "end_time": "2023-08-20T12:22:37.445210",
     "exception": false,
     "start_time": "2023-08-20T12:22:37.275832",
     "status": "completed"
    },
    "tags": []
   },
   "outputs": [
    {
     "data": {
      "text/html": [
       "<div>\n",
       "<style scoped>\n",
       "    .dataframe tbody tr th:only-of-type {\n",
       "        vertical-align: middle;\n",
       "    }\n",
       "\n",
       "    .dataframe tbody tr th {\n",
       "        vertical-align: top;\n",
       "    }\n",
       "\n",
       "    .dataframe thead th {\n",
       "        text-align: right;\n",
       "    }\n",
       "</style>\n",
       "<table border=\"1\" class=\"dataframe\">\n",
       "  <thead>\n",
       "    <tr style=\"text-align: right;\">\n",
       "      <th></th>\n",
       "      <th>Column_1</th>\n",
       "      <th>Column_2</th>\n",
       "      <th>Column_3</th>\n",
       "      <th>Column_4</th>\n",
       "      <th>Column_5</th>\n",
       "      <th>Column_6</th>\n",
       "      <th>Column_7</th>\n",
       "      <th>Column_8</th>\n",
       "      <th>Column_9</th>\n",
       "      <th>Column_10</th>\n",
       "      <th>...</th>\n",
       "      <th>Column_1016</th>\n",
       "      <th>Column_1017</th>\n",
       "      <th>Column_1018</th>\n",
       "      <th>Column_1019</th>\n",
       "      <th>Column_1020</th>\n",
       "      <th>Column_1021</th>\n",
       "      <th>Column_1022</th>\n",
       "      <th>Column_1023</th>\n",
       "      <th>Column_1024</th>\n",
       "      <th>ID</th>\n",
       "    </tr>\n",
       "  </thead>\n",
       "  <tbody>\n",
       "    <tr>\n",
       "      <th>0</th>\n",
       "      <td>0.049488</td>\n",
       "      <td>-0.032935</td>\n",
       "      <td>0.032473</td>\n",
       "      <td>-0.033723</td>\n",
       "      <td>-0.059505</td>\n",
       "      <td>0.075936</td>\n",
       "      <td>-0.045860</td>\n",
       "      <td>-0.104476</td>\n",
       "      <td>-0.072112</td>\n",
       "      <td>0.038806</td>\n",
       "      <td>...</td>\n",
       "      <td>-0.028773</td>\n",
       "      <td>-0.021878</td>\n",
       "      <td>-0.097883</td>\n",
       "      <td>0.056475</td>\n",
       "      <td>0.080950</td>\n",
       "      <td>-0.020938</td>\n",
       "      <td>-0.043532</td>\n",
       "      <td>0.096463</td>\n",
       "      <td>0.073070</td>\n",
       "      <td>P20536</td>\n",
       "    </tr>\n",
       "    <tr>\n",
       "      <th>1</th>\n",
       "      <td>-0.044616</td>\n",
       "      <td>0.064925</td>\n",
       "      <td>-0.080263</td>\n",
       "      <td>-0.075338</td>\n",
       "      <td>-0.004731</td>\n",
       "      <td>0.025408</td>\n",
       "      <td>-0.024685</td>\n",
       "      <td>-0.016568</td>\n",
       "      <td>-0.038980</td>\n",
       "      <td>-0.033870</td>\n",
       "      <td>...</td>\n",
       "      <td>0.003925</td>\n",
       "      <td>0.006130</td>\n",
       "      <td>0.007362</td>\n",
       "      <td>-0.066848</td>\n",
       "      <td>0.106882</td>\n",
       "      <td>-0.030134</td>\n",
       "      <td>0.026724</td>\n",
       "      <td>0.027879</td>\n",
       "      <td>-0.048430</td>\n",
       "      <td>O73864</td>\n",
       "    </tr>\n",
       "    <tr>\n",
       "      <th>2</th>\n",
       "      <td>-0.020128</td>\n",
       "      <td>-0.049779</td>\n",
       "      <td>0.007894</td>\n",
       "      <td>-0.000829</td>\n",
       "      <td>-0.047737</td>\n",
       "      <td>0.086453</td>\n",
       "      <td>-0.038107</td>\n",
       "      <td>-0.036379</td>\n",
       "      <td>0.029611</td>\n",
       "      <td>0.045029</td>\n",
       "      <td>...</td>\n",
       "      <td>0.008456</td>\n",
       "      <td>0.000697</td>\n",
       "      <td>0.013502</td>\n",
       "      <td>-0.005968</td>\n",
       "      <td>-0.011571</td>\n",
       "      <td>0.005704</td>\n",
       "      <td>-0.036103</td>\n",
       "      <td>0.007693</td>\n",
       "      <td>0.106234</td>\n",
       "      <td>O95231</td>\n",
       "    </tr>\n",
       "    <tr>\n",
       "      <th>3</th>\n",
       "      <td>-0.007515</td>\n",
       "      <td>0.060628</td>\n",
       "      <td>0.004045</td>\n",
       "      <td>0.027056</td>\n",
       "      <td>-0.021542</td>\n",
       "      <td>0.010380</td>\n",
       "      <td>-0.025064</td>\n",
       "      <td>-0.055834</td>\n",
       "      <td>0.068238</td>\n",
       "      <td>0.027764</td>\n",
       "      <td>...</td>\n",
       "      <td>0.023307</td>\n",
       "      <td>0.009009</td>\n",
       "      <td>0.018211</td>\n",
       "      <td>0.020820</td>\n",
       "      <td>-0.031738</td>\n",
       "      <td>0.013279</td>\n",
       "      <td>-0.018357</td>\n",
       "      <td>0.008087</td>\n",
       "      <td>0.010917</td>\n",
       "      <td>A0A0B4J1F4</td>\n",
       "    </tr>\n",
       "    <tr>\n",
       "      <th>4</th>\n",
       "      <td>0.013468</td>\n",
       "      <td>0.041516</td>\n",
       "      <td>0.018435</td>\n",
       "      <td>-0.035595</td>\n",
       "      <td>0.008770</td>\n",
       "      <td>0.018699</td>\n",
       "      <td>-0.015452</td>\n",
       "      <td>-0.038092</td>\n",
       "      <td>-0.038326</td>\n",
       "      <td>-0.012299</td>\n",
       "      <td>...</td>\n",
       "      <td>-0.025432</td>\n",
       "      <td>-0.060886</td>\n",
       "      <td>-0.026915</td>\n",
       "      <td>0.026342</td>\n",
       "      <td>0.017237</td>\n",
       "      <td>0.014731</td>\n",
       "      <td>-0.016861</td>\n",
       "      <td>-0.016272</td>\n",
       "      <td>0.037054</td>\n",
       "      <td>P54366</td>\n",
       "    </tr>\n",
       "    <tr>\n",
       "      <th>...</th>\n",
       "      <td>...</td>\n",
       "      <td>...</td>\n",
       "      <td>...</td>\n",
       "      <td>...</td>\n",
       "      <td>...</td>\n",
       "      <td>...</td>\n",
       "      <td>...</td>\n",
       "      <td>...</td>\n",
       "      <td>...</td>\n",
       "      <td>...</td>\n",
       "      <td>...</td>\n",
       "      <td>...</td>\n",
       "      <td>...</td>\n",
       "      <td>...</td>\n",
       "      <td>...</td>\n",
       "      <td>...</td>\n",
       "      <td>...</td>\n",
       "      <td>...</td>\n",
       "      <td>...</td>\n",
       "      <td>...</td>\n",
       "      <td>...</td>\n",
       "    </tr>\n",
       "    <tr>\n",
       "      <th>142241</th>\n",
       "      <td>0.032529</td>\n",
       "      <td>0.032490</td>\n",
       "      <td>0.026844</td>\n",
       "      <td>0.007486</td>\n",
       "      <td>-0.019346</td>\n",
       "      <td>0.033527</td>\n",
       "      <td>0.048294</td>\n",
       "      <td>-0.091146</td>\n",
       "      <td>0.007092</td>\n",
       "      <td>0.008843</td>\n",
       "      <td>...</td>\n",
       "      <td>-0.037237</td>\n",
       "      <td>-0.022644</td>\n",
       "      <td>-0.055443</td>\n",
       "      <td>0.002142</td>\n",
       "      <td>0.006521</td>\n",
       "      <td>-0.026665</td>\n",
       "      <td>-0.002415</td>\n",
       "      <td>0.016886</td>\n",
       "      <td>0.004104</td>\n",
       "      <td>A0A286YAI0</td>\n",
       "    </tr>\n",
       "    <tr>\n",
       "      <th>142242</th>\n",
       "      <td>0.056026</td>\n",
       "      <td>0.035470</td>\n",
       "      <td>0.021987</td>\n",
       "      <td>0.028443</td>\n",
       "      <td>-0.001087</td>\n",
       "      <td>0.020100</td>\n",
       "      <td>-0.010549</td>\n",
       "      <td>-0.049460</td>\n",
       "      <td>0.027347</td>\n",
       "      <td>-0.028113</td>\n",
       "      <td>...</td>\n",
       "      <td>-0.030632</td>\n",
       "      <td>-0.038549</td>\n",
       "      <td>-0.011747</td>\n",
       "      <td>0.060145</td>\n",
       "      <td>0.003906</td>\n",
       "      <td>-0.031132</td>\n",
       "      <td>0.003377</td>\n",
       "      <td>-0.027095</td>\n",
       "      <td>-0.015910</td>\n",
       "      <td>A0A1D5NUC4</td>\n",
       "    </tr>\n",
       "    <tr>\n",
       "      <th>142243</th>\n",
       "      <td>0.016918</td>\n",
       "      <td>0.041331</td>\n",
       "      <td>0.000793</td>\n",
       "      <td>-0.005990</td>\n",
       "      <td>-0.039993</td>\n",
       "      <td>0.056007</td>\n",
       "      <td>-0.013786</td>\n",
       "      <td>-0.076081</td>\n",
       "      <td>0.006320</td>\n",
       "      <td>-0.002054</td>\n",
       "      <td>...</td>\n",
       "      <td>-0.037351</td>\n",
       "      <td>0.008763</td>\n",
       "      <td>-0.051209</td>\n",
       "      <td>0.028266</td>\n",
       "      <td>0.009462</td>\n",
       "      <td>0.019854</td>\n",
       "      <td>0.008808</td>\n",
       "      <td>0.006481</td>\n",
       "      <td>-0.013350</td>\n",
       "      <td>Q5RGB0</td>\n",
       "    </tr>\n",
       "    <tr>\n",
       "      <th>142244</th>\n",
       "      <td>0.061252</td>\n",
       "      <td>0.083402</td>\n",
       "      <td>0.044025</td>\n",
       "      <td>0.047916</td>\n",
       "      <td>0.024477</td>\n",
       "      <td>0.035183</td>\n",
       "      <td>-0.016680</td>\n",
       "      <td>-0.043163</td>\n",
       "      <td>-0.045596</td>\n",
       "      <td>-0.029994</td>\n",
       "      <td>...</td>\n",
       "      <td>0.020183</td>\n",
       "      <td>-0.066376</td>\n",
       "      <td>0.058274</td>\n",
       "      <td>0.056035</td>\n",
       "      <td>-0.002282</td>\n",
       "      <td>-0.013941</td>\n",
       "      <td>0.001384</td>\n",
       "      <td>-0.047546</td>\n",
       "      <td>0.010124</td>\n",
       "      <td>A0A2R8QMZ5</td>\n",
       "    </tr>\n",
       "    <tr>\n",
       "      <th>142245</th>\n",
       "      <td>0.021600</td>\n",
       "      <td>0.065170</td>\n",
       "      <td>0.074923</td>\n",
       "      <td>-0.017102</td>\n",
       "      <td>0.020362</td>\n",
       "      <td>0.015444</td>\n",
       "      <td>-0.046874</td>\n",
       "      <td>-0.137347</td>\n",
       "      <td>0.036991</td>\n",
       "      <td>-0.015204</td>\n",
       "      <td>...</td>\n",
       "      <td>0.042368</td>\n",
       "      <td>0.030095</td>\n",
       "      <td>-0.043313</td>\n",
       "      <td>0.008538</td>\n",
       "      <td>-0.033913</td>\n",
       "      <td>-0.048953</td>\n",
       "      <td>0.049666</td>\n",
       "      <td>-0.019875</td>\n",
       "      <td>0.044714</td>\n",
       "      <td>A0A8I6GHU0</td>\n",
       "    </tr>\n",
       "  </tbody>\n",
       "</table>\n",
       "<p>142246 rows × 1025 columns</p>\n",
       "</div>"
      ],
      "text/plain": [
       "        Column_1  Column_2  Column_3  Column_4  Column_5  Column_6  Column_7  \\\n",
       "0       0.049488 -0.032935  0.032473 -0.033723 -0.059505  0.075936 -0.045860   \n",
       "1      -0.044616  0.064925 -0.080263 -0.075338 -0.004731  0.025408 -0.024685   \n",
       "2      -0.020128 -0.049779  0.007894 -0.000829 -0.047737  0.086453 -0.038107   \n",
       "3      -0.007515  0.060628  0.004045  0.027056 -0.021542  0.010380 -0.025064   \n",
       "4       0.013468  0.041516  0.018435 -0.035595  0.008770  0.018699 -0.015452   \n",
       "...          ...       ...       ...       ...       ...       ...       ...   \n",
       "142241  0.032529  0.032490  0.026844  0.007486 -0.019346  0.033527  0.048294   \n",
       "142242  0.056026  0.035470  0.021987  0.028443 -0.001087  0.020100 -0.010549   \n",
       "142243  0.016918  0.041331  0.000793 -0.005990 -0.039993  0.056007 -0.013786   \n",
       "142244  0.061252  0.083402  0.044025  0.047916  0.024477  0.035183 -0.016680   \n",
       "142245  0.021600  0.065170  0.074923 -0.017102  0.020362  0.015444 -0.046874   \n",
       "\n",
       "        Column_8  Column_9  Column_10  ...  Column_1016  Column_1017  \\\n",
       "0      -0.104476 -0.072112   0.038806  ...    -0.028773    -0.021878   \n",
       "1      -0.016568 -0.038980  -0.033870  ...     0.003925     0.006130   \n",
       "2      -0.036379  0.029611   0.045029  ...     0.008456     0.000697   \n",
       "3      -0.055834  0.068238   0.027764  ...     0.023307     0.009009   \n",
       "4      -0.038092 -0.038326  -0.012299  ...    -0.025432    -0.060886   \n",
       "...          ...       ...        ...  ...          ...          ...   \n",
       "142241 -0.091146  0.007092   0.008843  ...    -0.037237    -0.022644   \n",
       "142242 -0.049460  0.027347  -0.028113  ...    -0.030632    -0.038549   \n",
       "142243 -0.076081  0.006320  -0.002054  ...    -0.037351     0.008763   \n",
       "142244 -0.043163 -0.045596  -0.029994  ...     0.020183    -0.066376   \n",
       "142245 -0.137347  0.036991  -0.015204  ...     0.042368     0.030095   \n",
       "\n",
       "        Column_1018  Column_1019  Column_1020  Column_1021  Column_1022  \\\n",
       "0         -0.097883     0.056475     0.080950    -0.020938    -0.043532   \n",
       "1          0.007362    -0.066848     0.106882    -0.030134     0.026724   \n",
       "2          0.013502    -0.005968    -0.011571     0.005704    -0.036103   \n",
       "3          0.018211     0.020820    -0.031738     0.013279    -0.018357   \n",
       "4         -0.026915     0.026342     0.017237     0.014731    -0.016861   \n",
       "...             ...          ...          ...          ...          ...   \n",
       "142241    -0.055443     0.002142     0.006521    -0.026665    -0.002415   \n",
       "142242    -0.011747     0.060145     0.003906    -0.031132     0.003377   \n",
       "142243    -0.051209     0.028266     0.009462     0.019854     0.008808   \n",
       "142244     0.058274     0.056035    -0.002282    -0.013941     0.001384   \n",
       "142245    -0.043313     0.008538    -0.033913    -0.048953     0.049666   \n",
       "\n",
       "        Column_1023  Column_1024          ID  \n",
       "0          0.096463     0.073070      P20536  \n",
       "1          0.027879    -0.048430      O73864  \n",
       "2          0.007693     0.106234      O95231  \n",
       "3          0.008087     0.010917  A0A0B4J1F4  \n",
       "4         -0.016272     0.037054      P54366  \n",
       "...             ...          ...         ...  \n",
       "142241     0.016886     0.004104  A0A286YAI0  \n",
       "142242    -0.027095    -0.015910  A0A1D5NUC4  \n",
       "142243     0.006481    -0.013350      Q5RGB0  \n",
       "142244    -0.047546     0.010124  A0A2R8QMZ5  \n",
       "142245    -0.019875     0.044714  A0A8I6GHU0  \n",
       "\n",
       "[142246 rows x 1025 columns]"
      ]
     },
     "execution_count": 8,
     "metadata": {},
     "output_type": "execute_result"
    }
   ],
   "source": [
    "train_df"
   ]
  },
  {
   "cell_type": "code",
   "execution_count": 9,
   "id": "449ad6d0",
   "metadata": {
    "execution": {
     "iopub.execute_input": "2023-08-20T12:22:37.482900Z",
     "iopub.status.busy": "2023-08-20T12:22:37.482481Z",
     "iopub.status.idle": "2023-08-20T12:23:09.126950Z",
     "shell.execute_reply": "2023-08-20T12:23:09.122071Z"
    },
    "papermill": {
     "duration": 31.679744,
     "end_time": "2023-08-20T12:23:09.143069",
     "exception": false,
     "start_time": "2023-08-20T12:22:37.463325",
     "status": "completed"
    },
    "tags": []
   },
   "outputs": [
    {
     "name": "stderr",
     "output_type": "stream",
     "text": [
      "/tmp/ipykernel_20/1807187720.py:4: SettingWithCopyWarning: \n",
      "A value is trying to be set on a copy of a slice from a DataFrame.\n",
      "Try using .loc[row_indexer,col_indexer] = value instead\n",
      "\n",
      "See the caveats in the documentation: https://pandas.pydata.org/pandas-docs/stable/user_guide/indexing.html#returning-a-view-versus-a-copy\n",
      "  df_duplicated['DuplicateGroup'] = df_duplicated.groupby([col for col in df_duplicated.columns]).ngroup()\n"
     ]
    }
   ],
   "source": [
    "#Number of different proteins with the same aminoacid sequence embedding \n",
    "df_duplicated = train_df[train_df.loc[:, train_df.columns != 'ID'].duplicated(keep=False)]\n",
    "#Flag the pairs \n",
    "df_duplicated['DuplicateGroup'] = df_duplicated.groupby([col for col in df_duplicated.columns]).ngroup()"
   ]
  },
  {
   "cell_type": "code",
   "execution_count": 10,
   "id": "bdd65889",
   "metadata": {
    "execution": {
     "iopub.execute_input": "2023-08-20T12:23:09.179621Z",
     "iopub.status.busy": "2023-08-20T12:23:09.179234Z",
     "iopub.status.idle": "2023-08-20T12:23:09.184927Z",
     "shell.execute_reply": "2023-08-20T12:23:09.183898Z"
    },
    "papermill": {
     "duration": 0.027109,
     "end_time": "2023-08-20T12:23:09.187597",
     "exception": false,
     "start_time": "2023-08-20T12:23:09.160488",
     "status": "completed"
    },
    "tags": []
   },
   "outputs": [
    {
     "name": "stdout",
     "output_type": "stream",
     "text": [
      "6092\n"
     ]
    }
   ],
   "source": [
    "print(df_duplicated.shape[0])"
   ]
  },
  {
   "cell_type": "code",
   "execution_count": 11,
   "id": "6c6d8c2b",
   "metadata": {
    "execution": {
     "iopub.execute_input": "2023-08-20T12:23:09.223864Z",
     "iopub.status.busy": "2023-08-20T12:23:09.223478Z",
     "iopub.status.idle": "2023-08-20T12:23:10.523235Z",
     "shell.execute_reply": "2023-08-20T12:23:10.521960Z"
    },
    "papermill": {
     "duration": 1.321684,
     "end_time": "2023-08-20T12:23:10.526569",
     "exception": false,
     "start_time": "2023-08-20T12:23:09.204885",
     "status": "completed"
    },
    "tags": []
   },
   "outputs": [],
   "source": [
    "#Collect all terms of a EntryID inside one row through a list\n",
    "df_duplicated_terms = train_terms[train_terms['EntryID'].isin(df_duplicated['ID'])].groupby('EntryID')['term'].apply(list).reset_index(name='terms_collected')\n",
    "df_duplicated_terms['duplicated_sequence_group'] = df_duplicated_terms.merge(df_duplicated, left_on='EntryID', right_on='ID')['DuplicateGroup']"
   ]
  },
  {
   "cell_type": "code",
   "execution_count": 12,
   "id": "18b7f8a6",
   "metadata": {
    "execution": {
     "iopub.execute_input": "2023-08-20T12:23:10.563814Z",
     "iopub.status.busy": "2023-08-20T12:23:10.563356Z",
     "iopub.status.idle": "2023-08-20T12:23:10.583624Z",
     "shell.execute_reply": "2023-08-20T12:23:10.582334Z"
    },
    "papermill": {
     "duration": 0.042352,
     "end_time": "2023-08-20T12:23:10.586489",
     "exception": false,
     "start_time": "2023-08-20T12:23:10.544137",
     "status": "completed"
    },
    "tags": []
   },
   "outputs": [
    {
     "data": {
      "text/html": [
       "<div>\n",
       "<style scoped>\n",
       "    .dataframe tbody tr th:only-of-type {\n",
       "        vertical-align: middle;\n",
       "    }\n",
       "\n",
       "    .dataframe tbody tr th {\n",
       "        vertical-align: top;\n",
       "    }\n",
       "\n",
       "    .dataframe thead th {\n",
       "        text-align: right;\n",
       "    }\n",
       "</style>\n",
       "<table border=\"1\" class=\"dataframe\">\n",
       "  <thead>\n",
       "    <tr style=\"text-align: right;\">\n",
       "      <th></th>\n",
       "      <th>EntryID</th>\n",
       "      <th>terms_collected</th>\n",
       "      <th>duplicated_sequence_group</th>\n",
       "    </tr>\n",
       "  </thead>\n",
       "  <tbody>\n",
       "    <tr>\n",
       "      <th>0</th>\n",
       "      <td>A0A023T787</td>\n",
       "      <td>[GO:0005654, GO:0005622, GO:0031981, GO:004322...</td>\n",
       "      <td>2827</td>\n",
       "    </tr>\n",
       "    <tr>\n",
       "      <th>1</th>\n",
       "      <td>A0A024QYT6</td>\n",
       "      <td>[GO:0005794, GO:0005622, GO:0043229, GO:004322...</td>\n",
       "      <td>4288</td>\n",
       "    </tr>\n",
       "    <tr>\n",
       "      <th>2</th>\n",
       "      <td>A0A024QYX0</td>\n",
       "      <td>[GO:0005622, GO:0043229, GO:0043226, GO:011016...</td>\n",
       "      <td>3453</td>\n",
       "    </tr>\n",
       "    <tr>\n",
       "      <th>3</th>\n",
       "      <td>A0A024QYX2</td>\n",
       "      <td>[GO:0005622, GO:0031981, GO:0043226, GO:000573...</td>\n",
       "      <td>632</td>\n",
       "    </tr>\n",
       "    <tr>\n",
       "      <th>4</th>\n",
       "      <td>A0A024QYX3</td>\n",
       "      <td>[GO:0005622, GO:0031981, GO:0043229, GO:004322...</td>\n",
       "      <td>1951</td>\n",
       "    </tr>\n",
       "    <tr>\n",
       "      <th>...</th>\n",
       "      <td>...</td>\n",
       "      <td>...</td>\n",
       "      <td>...</td>\n",
       "    </tr>\n",
       "    <tr>\n",
       "      <th>6087</th>\n",
       "      <td>X5DQN9</td>\n",
       "      <td>[GO:0005622, GO:0031981, GO:0043229, GO:004322...</td>\n",
       "      <td>3375</td>\n",
       "    </tr>\n",
       "    <tr>\n",
       "      <th>6088</th>\n",
       "      <td>X5DR03</td>\n",
       "      <td>[GO:0005829, GO:0005622, GO:0110165, GO:004517...</td>\n",
       "      <td>3393</td>\n",
       "    </tr>\n",
       "    <tr>\n",
       "      <th>6089</th>\n",
       "      <td>X5DR09</td>\n",
       "      <td>[GO:0005622, GO:0031981, GO:0043229, GO:004322...</td>\n",
       "      <td>1237</td>\n",
       "    </tr>\n",
       "    <tr>\n",
       "      <th>6090</th>\n",
       "      <td>X5DR79</td>\n",
       "      <td>[GO:0005622, GO:0031981, GO:0043226, GO:004323...</td>\n",
       "      <td>958</td>\n",
       "    </tr>\n",
       "    <tr>\n",
       "      <th>6091</th>\n",
       "      <td>X5DRB1</td>\n",
       "      <td>[GO:0005622, GO:0031981, GO:0043226, GO:000573...</td>\n",
       "      <td>1917</td>\n",
       "    </tr>\n",
       "  </tbody>\n",
       "</table>\n",
       "<p>6092 rows × 3 columns</p>\n",
       "</div>"
      ],
      "text/plain": [
       "         EntryID                                    terms_collected  \\\n",
       "0     A0A023T787  [GO:0005654, GO:0005622, GO:0031981, GO:004322...   \n",
       "1     A0A024QYT6  [GO:0005794, GO:0005622, GO:0043229, GO:004322...   \n",
       "2     A0A024QYX0  [GO:0005622, GO:0043229, GO:0043226, GO:011016...   \n",
       "3     A0A024QYX2  [GO:0005622, GO:0031981, GO:0043226, GO:000573...   \n",
       "4     A0A024QYX3  [GO:0005622, GO:0031981, GO:0043229, GO:004322...   \n",
       "...          ...                                                ...   \n",
       "6087      X5DQN9  [GO:0005622, GO:0031981, GO:0043229, GO:004322...   \n",
       "6088      X5DR03  [GO:0005829, GO:0005622, GO:0110165, GO:004517...   \n",
       "6089      X5DR09  [GO:0005622, GO:0031981, GO:0043229, GO:004322...   \n",
       "6090      X5DR79  [GO:0005622, GO:0031981, GO:0043226, GO:004323...   \n",
       "6091      X5DRB1  [GO:0005622, GO:0031981, GO:0043226, GO:000573...   \n",
       "\n",
       "      duplicated_sequence_group  \n",
       "0                          2827  \n",
       "1                          4288  \n",
       "2                          3453  \n",
       "3                           632  \n",
       "4                          1951  \n",
       "...                         ...  \n",
       "6087                       3375  \n",
       "6088                       3393  \n",
       "6089                       1237  \n",
       "6090                        958  \n",
       "6091                       1917  \n",
       "\n",
       "[6092 rows x 3 columns]"
      ]
     },
     "execution_count": 12,
     "metadata": {},
     "output_type": "execute_result"
    }
   ],
   "source": [
    "df_duplicated_terms"
   ]
  },
  {
   "cell_type": "code",
   "execution_count": 13,
   "id": "9c3d4cea",
   "metadata": {
    "execution": {
     "iopub.execute_input": "2023-08-20T12:23:10.623542Z",
     "iopub.status.busy": "2023-08-20T12:23:10.623136Z",
     "iopub.status.idle": "2023-08-20T12:23:10.661196Z",
     "shell.execute_reply": "2023-08-20T12:23:10.660004Z"
    },
    "papermill": {
     "duration": 0.059941,
     "end_time": "2023-08-20T12:23:10.664096",
     "exception": false,
     "start_time": "2023-08-20T12:23:10.604155",
     "status": "completed"
    },
    "tags": []
   },
   "outputs": [],
   "source": [
    "#Number of the same amnoacid sequence and all the same go-terms\n",
    "df_duplicated_terms['terms_collected'] = df_duplicated_terms['terms_collected'].apply(tuple)\n",
    "df_dp_count = df_duplicated_terms[df_duplicated_terms[['terms_collected','duplicated_sequence_group']].duplicated(keep=False)] #Count the number of proteins with same sequence and same go-terms"
   ]
  },
  {
   "cell_type": "code",
   "execution_count": 14,
   "id": "24019d23",
   "metadata": {
    "execution": {
     "iopub.execute_input": "2023-08-20T12:23:10.700996Z",
     "iopub.status.busy": "2023-08-20T12:23:10.700579Z",
     "iopub.status.idle": "2023-08-20T12:23:10.710579Z",
     "shell.execute_reply": "2023-08-20T12:23:10.709390Z"
    },
    "papermill": {
     "duration": 0.031697,
     "end_time": "2023-08-20T12:23:10.713351",
     "exception": false,
     "start_time": "2023-08-20T12:23:10.681654",
     "status": "completed"
    },
    "tags": []
   },
   "outputs": [
    {
     "data": {
      "text/html": [
       "<div>\n",
       "<style scoped>\n",
       "    .dataframe tbody tr th:only-of-type {\n",
       "        vertical-align: middle;\n",
       "    }\n",
       "\n",
       "    .dataframe tbody tr th {\n",
       "        vertical-align: top;\n",
       "    }\n",
       "\n",
       "    .dataframe thead th {\n",
       "        text-align: right;\n",
       "    }\n",
       "</style>\n",
       "<table border=\"1\" class=\"dataframe\">\n",
       "  <thead>\n",
       "    <tr style=\"text-align: right;\">\n",
       "      <th></th>\n",
       "      <th>EntryID</th>\n",
       "      <th>terms_collected</th>\n",
       "      <th>duplicated_sequence_group</th>\n",
       "    </tr>\n",
       "  </thead>\n",
       "  <tbody>\n",
       "  </tbody>\n",
       "</table>\n",
       "</div>"
      ],
      "text/plain": [
       "Empty DataFrame\n",
       "Columns: [EntryID, terms_collected, duplicated_sequence_group]\n",
       "Index: []"
      ]
     },
     "execution_count": 14,
     "metadata": {},
     "output_type": "execute_result"
    }
   ],
   "source": [
    "#Different proteins that have different functions although having the same sequence\n",
    "df_dp_count"
   ]
  },
  {
   "cell_type": "code",
   "execution_count": 15,
   "id": "71bcdf14",
   "metadata": {
    "execution": {
     "iopub.execute_input": "2023-08-20T12:23:10.753087Z",
     "iopub.status.busy": "2023-08-20T12:23:10.752625Z",
     "iopub.status.idle": "2023-08-20T12:23:11.833002Z",
     "shell.execute_reply": "2023-08-20T12:23:11.831271Z"
    },
    "papermill": {
     "duration": 1.105265,
     "end_time": "2023-08-20T12:23:11.837262",
     "exception": false,
     "start_time": "2023-08-20T12:23:10.731997",
     "status": "completed"
    },
    "tags": []
   },
   "outputs": [
    {
     "data": {
      "image/png": "[encoded data removed]",
      "text/plain": [
       "<Figure size 640x480 with 1 Axes>"
      ]
     },
     "metadata": {},
     "output_type": "display_data"
    }
   ],
   "source": [
    "#Distribution betwen aspects\n",
    "pie_df = train_terms['aspect'].value_counts()\n",
    "palette_color = sns.color_palette('bright')\n",
    "plt.pie(pie_df.values, labels=np.array(pie_df.index), colors=palette_color, autopct='%.0f%%')\n",
    "plt.show()"
   ]
  },
  {
   "cell_type": "code",
   "execution_count": 16,
   "id": "484a451e",
   "metadata": {
    "execution": {
     "iopub.execute_input": "2023-08-20T12:23:11.902879Z",
     "iopub.status.busy": "2023-08-20T12:23:11.902471Z",
     "iopub.status.idle": "2023-08-20T12:23:15.464397Z",
     "shell.execute_reply": "2023-08-20T12:23:15.462681Z"
    },
    "papermill": {
     "duration": 3.592208,
     "end_time": "2023-08-20T12:23:15.468299",
     "exception": false,
     "start_time": "2023-08-20T12:23:11.876091",
     "status": "completed"
    },
    "tags": []
   },
   "outputs": [],
   "source": [
    "from Bio import SeqIO\n",
    "\n",
    "# Specify the path to your FASTA file\n",
    "fasta_file = '/kaggle/input/cafa-5-protein-function-prediction/Train/train_sequences.fasta'\n",
    "\n",
    "# Read the FASTA file\n",
    "sequences = []\n",
    "for record in SeqIO.parse(fasta_file, \"fasta\"):\n",
    "    # Access the sequence ID and sequence data\n",
    "    sequence_id = record.id\n",
    "    sequence_data = record.seq\n",
    "\n",
    "    # Add the sequence to the list\n",
    "    sequences.append((sequence_id, sequence_data))"
   ]
  },
  {
   "cell_type": "code",
   "execution_count": 17,
   "id": "4f0e7a36",
   "metadata": {
    "execution": {
     "iopub.execute_input": "2023-08-20T12:23:15.507716Z",
     "iopub.status.busy": "2023-08-20T12:23:15.507256Z",
     "iopub.status.idle": "2023-08-20T12:23:15.515691Z",
     "shell.execute_reply": "2023-08-20T12:23:15.514588Z"
    },
    "papermill": {
     "duration": 0.031012,
     "end_time": "2023-08-20T12:23:15.518305",
     "exception": false,
     "start_time": "2023-08-20T12:23:15.487293",
     "status": "completed"
    },
    "tags": []
   },
   "outputs": [
    {
     "data": {
      "text/plain": [
       "(142246,\n",
       " ('P20536',\n",
       "  Seq('MNSVTVSHAPYTITYHDDWEPVMSQLVEFYNEVASWLLRDETSPIPDKFFIQLK...FIY')),\n",
       " Seq('MNSVTVSHAPYTITYHDDWEPVMSQLVEFYNEVASWLLRDETSPIPDKFFIQLK...FIY'))"
      ]
     },
     "execution_count": 17,
     "metadata": {},
     "output_type": "execute_result"
    }
   ],
   "source": [
    "len(sequences), sequences[0],sequences[0][1]"
   ]
  },
  {
   "cell_type": "markdown",
   "id": "7b635ae6",
   "metadata": {
    "papermill": {
     "duration": 0.017941,
     "end_time": "2023-08-20T12:23:15.555322",
     "exception": false,
     "start_time": "2023-08-20T12:23:15.537381",
     "status": "completed"
    },
    "tags": []
   },
   "source": [
    "## Preparing Data"
   ]
  },
  {
   "cell_type": "code",
   "execution_count": 18,
   "id": "21475408",
   "metadata": {
    "execution": {
     "iopub.execute_input": "2023-08-20T12:23:15.594051Z",
     "iopub.status.busy": "2023-08-20T12:23:15.593563Z",
     "iopub.status.idle": "2023-08-20T12:23:15.599200Z",
     "shell.execute_reply": "2023-08-20T12:23:15.597899Z"
    },
    "papermill": {
     "duration": 0.028187,
     "end_time": "2023-08-20T12:23:15.601865",
     "exception": false,
     "start_time": "2023-08-20T12:23:15.573678",
     "status": "completed"
    },
    "tags": []
   },
   "outputs": [],
   "source": [
    "# Set the limit for label\n",
    "num_of_labels = 1500\n",
    "train_size = train_id.shape[0] # len(X)"
   ]
  },
  {
   "cell_type": "code",
   "execution_count": 19,
   "id": "033de2e4",
   "metadata": {
    "execution": {
     "iopub.execute_input": "2023-08-20T12:23:15.640826Z",
     "iopub.status.busy": "2023-08-20T12:23:15.640389Z",
     "iopub.status.idle": "2023-08-20T12:23:28.580017Z",
     "shell.execute_reply": "2023-08-20T12:23:28.578692Z"
    },
    "papermill": {
     "duration": 12.962588,
     "end_time": "2023-08-20T12:23:28.583058",
     "exception": false,
     "start_time": "2023-08-20T12:23:15.620470",
     "status": "completed"
    },
    "tags": []
   },
   "outputs": [],
   "source": [
    "from keras.utils import pad_sequences\n",
    "\n",
    "# Define the dictionary mapping for tokenization\n",
    "amino_acid_dict = {\n",
    "    'A': 1, 'R': 2, 'N': 3, 'D': 4, 'C': 5, 'Q': 6, 'E': 7, 'G': 8,\n",
    "    'H': 9, 'I': 10, 'L': 11, 'K': 12, 'M': 13, 'F': 14, 'P': 15, 'S': 16,\n",
    "    'T': 17, 'W': 18, 'Y': 19, 'V': 20, 'B': 21, 'Z': 22, 'X': 23, 'U': 24,\n",
    "    'O': 25\n",
    "}\n",
    "amnoacid_sequences = []\n",
    "\n",
    "# Define the maximum sequence length\n",
    "max_sequence_length = 400\n",
    "\n",
    "# Loop through each label\n",
    "for sequence in sequences:\n",
    "#     print(sequence[1])\n",
    "    # Convert sequences to integer tokens\n",
    "    tokenized_seq = [amino_acid_dict[aa] for aa in sequence[1]]\n",
    "    \n",
    "    amnoacid_sequences.append(tokenized_seq)\n",
    "    \n",
    "# Pad or truncate sequences to the desired length\n",
    "amnoacid_sequences = pad_sequences(amnoacid_sequences, maxlen=max_sequence_length, padding='post', truncating='post', value=0)"
   ]
  },
  {
   "cell_type": "code",
   "execution_count": 20,
   "id": "5e88ea89",
   "metadata": {
    "execution": {
     "iopub.execute_input": "2023-08-20T12:23:28.622703Z",
     "iopub.status.busy": "2023-08-20T12:23:28.622239Z",
     "iopub.status.idle": "2023-08-20T12:23:28.629204Z",
     "shell.execute_reply": "2023-08-20T12:23:28.628002Z"
    },
    "papermill": {
     "duration": 0.030077,
     "end_time": "2023-08-20T12:23:28.631674",
     "exception": false,
     "start_time": "2023-08-20T12:23:28.601597",
     "status": "completed"
    },
    "tags": []
   },
   "outputs": [
    {
     "data": {
      "text/plain": [
       "(142246, 400)"
      ]
     },
     "execution_count": 20,
     "metadata": {},
     "output_type": "execute_result"
    }
   ],
   "source": [
    "amnoacid_sequences.shape"
   ]
  },
  {
   "cell_type": "code",
   "execution_count": 21,
   "id": "56f93a28",
   "metadata": {
    "execution": {
     "iopub.execute_input": "2023-08-20T12:23:28.670819Z",
     "iopub.status.busy": "2023-08-20T12:23:28.669902Z",
     "iopub.status.idle": "2023-08-20T12:44:11.894838Z",
     "shell.execute_reply": "2023-08-20T12:44:11.893570Z"
    },
    "papermill": {
     "duration": 1243.24742,
     "end_time": "2023-08-20T12:44:11.897602",
     "exception": false,
     "start_time": "2023-08-20T12:23:28.650182",
     "status": "completed"
    },
    "tags": []
   },
   "outputs": [
    {
     "name": "stderr",
     "output_type": "stream",
     "text": [
      "[========================================================================] 100%\n"
     ]
    },
    {
     "name": "stdout",
     "output_type": "stream",
     "text": [
      "(142246, 1500)\n"
     ]
    }
   ],
   "source": [
    "# Take value counts in descending order and fetch first 1500 `GO term ID` as labels\n",
    "labels = train_terms['term'].value_counts().index[:num_of_labels].tolist()\n",
    "\n",
    "# Fetch the train_terms data for the relevant labels only\n",
    "train_terms_updated = train_terms.loc[train_terms['term'].isin(labels)]\n",
    "\n",
    "# Setup progressbar settings.\n",
    "bar = progressbar.ProgressBar(maxval=num_of_labels, \\\n",
    "    widgets=[progressbar.Bar('=', '[', ']'), ' ', progressbar.Percentage()])\n",
    "\n",
    "# Create an empty dataframe of required size for storing the labels,\n",
    "train_labels = np.zeros((train_size ,num_of_labels))\n",
    "series_train_protein_ids = pd.Series(train_id)\n",
    "\n",
    "# Loop through each label\n",
    "for i in range(num_of_labels):\n",
    "    # For each label, fetch the corresponding train_terms data\n",
    "    n_train_terms = train_terms_updated[train_terms_updated['term'] ==  labels[i]]\n",
    "    \n",
    "    # Fetch all the unique EntryId aka proteins related to the current label(GO term ID)\n",
    "    label_related_proteins = n_train_terms['EntryID'].unique()\n",
    "    \n",
    "    # In the series_train_protein_ids pandas series, if a protein is related\n",
    "    # to the current label, then mark it as 1, else 0.\n",
    "    # Replace the ith column of train_Y with with that pandas series.\n",
    "    train_labels[:,i] =  series_train_protein_ids.isin(label_related_proteins).astype(float)\n",
    "    \n",
    "    # Progress bar percentage increase\n",
    "    bar.update(i+1)\n",
    "\n",
    "# Notify the end of progress bar \n",
    "bar.finish()\n",
    "\n",
    "# Convert train_Y numpy into pandas dataframe\n",
    "labels_df = pd.DataFrame(data = train_labels, columns = labels)\n",
    "print(labels_df.shape)"
   ]
  },
  {
   "cell_type": "code",
   "execution_count": 22,
   "id": "16b08201",
   "metadata": {
    "execution": {
     "iopub.execute_input": "2023-08-20T12:44:11.951786Z",
     "iopub.status.busy": "2023-08-20T12:44:11.951346Z",
     "iopub.status.idle": "2023-08-20T12:44:12.577387Z",
     "shell.execute_reply": "2023-08-20T12:44:12.576244Z"
    },
    "papermill": {
     "duration": 0.656766,
     "end_time": "2023-08-20T12:44:12.580383",
     "exception": false,
     "start_time": "2023-08-20T12:44:11.923617",
     "status": "completed"
    },
    "tags": []
   },
   "outputs": [],
   "source": [
    "# Extract input features and labels from the DataFrame\n",
    "features_input = train_df.loc[:, train_df.columns != 'ID'].values  # Extract the values from the DataFrame\n",
    "labels_input = labels_df.values  # Extract the label column\n"
   ]
  },
  {
   "cell_type": "code",
   "execution_count": 23,
   "id": "ab839bda",
   "metadata": {
    "execution": {
     "iopub.execute_input": "2023-08-20T12:44:12.634713Z",
     "iopub.status.busy": "2023-08-20T12:44:12.634307Z",
     "iopub.status.idle": "2023-08-20T12:44:12.642473Z",
     "shell.execute_reply": "2023-08-20T12:44:12.641248Z"
    },
    "papermill": {
     "duration": 0.038597,
     "end_time": "2023-08-20T12:44:12.644999",
     "exception": false,
     "start_time": "2023-08-20T12:44:12.606402",
     "status": "completed"
    },
    "tags": []
   },
   "outputs": [
    {
     "data": {
      "text/plain": [
       "array([[ 0.04948843, -0.03293516,  0.03247323, ..., -0.04353154,\n",
       "         0.0964628 ,  0.07306959],\n",
       "       [-0.04461636,  0.06492499, -0.08026284, ...,  0.02672353,\n",
       "         0.02787905, -0.04842958],\n",
       "       [-0.02012804, -0.04977943,  0.00789446, ..., -0.03610279,\n",
       "         0.00769301,  0.10623412],\n",
       "       ...,\n",
       "       [ 0.01691809,  0.04133058,  0.00079253, ...,  0.0088079 ,\n",
       "         0.00648063, -0.01334958],\n",
       "       [ 0.06125151,  0.08340203,  0.0440247 , ...,  0.00138361,\n",
       "        -0.04754627,  0.01012351],\n",
       "       [ 0.02160021,  0.06516985,  0.07492343, ...,  0.0496657 ,\n",
       "        -0.01987522,  0.04471432]])"
      ]
     },
     "execution_count": 23,
     "metadata": {},
     "output_type": "execute_result"
    }
   ],
   "source": [
    "features_input"
   ]
  },
  {
   "cell_type": "code",
   "execution_count": 24,
   "id": "51104a34",
   "metadata": {
    "execution": {
     "iopub.execute_input": "2023-08-20T12:44:12.699314Z",
     "iopub.status.busy": "2023-08-20T12:44:12.698077Z",
     "iopub.status.idle": "2023-08-20T12:44:23.874355Z",
     "shell.execute_reply": "2023-08-20T12:44:23.872638Z"
    },
    "papermill": {
     "duration": 11.207002,
     "end_time": "2023-08-20T12:44:23.877869",
     "exception": false,
     "start_time": "2023-08-20T12:44:12.670867",
     "status": "completed"
    },
    "tags": []
   },
   "outputs": [
    {
     "name": "stdout",
     "output_type": "stream",
     "text": [
      "(141865, 1024)\n"
     ]
    }
   ],
   "source": [
    "#Eval in test data \n",
    "test_embeddings = np.load('/kaggle/input/t5embeds/test_embeds.npy')\n",
    "\n",
    "# Convert test_embeddings to dataframe\n",
    "column_num = test_embeddings.shape[1]\n",
    "test_df = pd.DataFrame(test_embeddings, columns = [\"Column_\" + str(i) for i in range(1, column_num+1)])\n",
    "print(test_df.shape)"
   ]
  },
  {
   "cell_type": "markdown",
   "id": "c8fe2466",
   "metadata": {
    "papermill": {
     "duration": 0.026098,
     "end_time": "2023-08-20T12:44:23.930599",
     "exception": false,
     "start_time": "2023-08-20T12:44:23.904501",
     "status": "completed"
    },
    "tags": []
   },
   "source": [
    "## Tryng a CNN-LSTM"
   ]
  },
  {
   "cell_type": "code",
   "execution_count": 25,
   "id": "2e7bde09",
   "metadata": {
    "execution": {
     "iopub.execute_input": "2023-08-20T12:44:23.984205Z",
     "iopub.status.busy": "2023-08-20T12:44:23.983772Z",
     "iopub.status.idle": "2023-08-20T12:44:24.522689Z",
     "shell.execute_reply": "2023-08-20T12:44:24.521441Z"
    },
    "papermill": {
     "duration": 0.573783,
     "end_time": "2023-08-20T12:44:24.530382",
     "exception": false,
     "start_time": "2023-08-20T12:44:23.956599",
     "status": "completed"
    },
    "tags": []
   },
   "outputs": [
    {
     "name": "stdout",
     "output_type": "stream",
     "text": [
      "Model: \"sequential\"\n",
      "_________________________________________________________________\n",
      " Layer (type)                Output Shape              Param #   \n",
      "=================================================================\n",
      " conv1d (Conv1D)             (None, 1022, 32)          128       \n",
      "                                                                 \n",
      " max_pooling1d (MaxPooling1D  (None, 511, 32)          0         \n",
      " )                                                               \n",
      "                                                                 \n",
      " lstm (LSTM)                 (None, 64)                24832     \n",
      "                                                                 \n",
      " dense (Dense)               (None, 128)               8320      \n",
      "                                                                 \n",
      " dense_1 (Dense)             (None, 1500)              193500    \n",
      "                                                                 \n",
      "=================================================================\n",
      "Total params: 226,780\n",
      "Trainable params: 226,780\n",
      "Non-trainable params: 0\n",
      "_________________________________________________________________\n"
     ]
    }
   ],
   "source": [
    "from keras.models import Sequential\n",
    "from keras.layers import LSTM, Conv1D, MaxPooling1D, Flatten, Dense, Bidirectional, Dropout, Add,Input, Embedding\n",
    "from keras.layers import LeakyReLU\n",
    "import tensorflow as tf\n",
    "\n",
    "\n",
    "# Use MirroredStrategy for multi-GPU training\n",
    "strategy = tf.distribute.MirroredStrategy()\n",
    "with strategy.scope():\n",
    "    # Create a sequential model\n",
    "    model_CNN_LSTM = Sequential()\n",
    "    \n",
    "    # Add a Conv1D layer for spatial pattern detection\n",
    "    model_CNN_LSTM.add(Conv1D(32, kernel_size=3, input_shape = (1024,1), activation='LeakyReLU'))\n",
    "    model_CNN_LSTM.add(MaxPooling1D(pool_size=2))\n",
    "    \n",
    "    # Add an LSTM layer for sequence modeling\n",
    "    model_CNN_LSTM.add(LSTM(units=64, dropout=0.2, recurrent_dropout=0.2))\n",
    "    \n",
    "    # Add another Dense layer for non-linear transformations\n",
    "    model_CNN_LSTM.add(Dense(128, activation='LeakyReLU'))\n",
    "\n",
    "    # Add a fully connected layer for classification\n",
    "    model_CNN_LSTM.add(Dense(1500, activation='sigmoid'))\n",
    "    \n",
    "    # Compile the model\n",
    "    model_CNN_LSTM.compile(loss='binary_crossentropy', optimizer='adam', metrics=['accuracy'])\n",
    "\n",
    "    # Print the model summary\n",
    "    model_CNN_LSTM.summary()"
   ]
  },
  {
   "cell_type": "code",
   "execution_count": 26,
   "id": "c7734bea",
   "metadata": {
    "execution": {
     "iopub.execute_input": "2023-08-20T12:44:24.587997Z",
     "iopub.status.busy": "2023-08-20T12:44:24.587589Z",
     "iopub.status.idle": "2023-08-20T12:44:24.594248Z",
     "shell.execute_reply": "2023-08-20T12:44:24.593115Z"
    },
    "papermill": {
     "duration": 0.038586,
     "end_time": "2023-08-20T12:44:24.596876",
     "exception": false,
     "start_time": "2023-08-20T12:44:24.558290",
     "status": "completed"
    },
    "tags": []
   },
   "outputs": [
    {
     "name": "stdout",
     "output_type": "stream",
     "text": [
      "Number of available GPUs: 0\n"
     ]
    }
   ],
   "source": [
    "import tensorflow as tf\n",
    "\n",
    "# Check if GPU devices are available\n",
    "physical_devices = tf.config.list_physical_devices('GPU')\n",
    "num_gpus = len(physical_devices)\n",
    "print(\"Number of available GPUs:\", num_gpus)\n"
   ]
  },
  {
   "cell_type": "code",
   "execution_count": 27,
   "id": "373033e2",
   "metadata": {
    "execution": {
     "iopub.execute_input": "2023-08-20T12:44:24.654594Z",
     "iopub.status.busy": "2023-08-20T12:44:24.654154Z",
     "iopub.status.idle": "2023-08-20T14:32:21.074231Z",
     "shell.execute_reply": "2023-08-20T14:32:21.070010Z"
    },
    "papermill": {
     "duration": 6476.456126,
     "end_time": "2023-08-20T14:32:21.080854",
     "exception": false,
     "start_time": "2023-08-20T12:44:24.624728",
     "status": "completed"
    },
    "tags": []
   },
   "outputs": [
    {
     "name": "stdout",
     "output_type": "stream",
     "text": [
      "Not enough GPUs available. Training on a single GPU.\n",
      "Epoch 1/10\n",
      "139/139 [==============================] - 665s 5s/step - loss: 0.1713 - accuracy: 0.4505\n",
      "Epoch 2/10\n",
      "139/139 [==============================] - 640s 5s/step - loss: 0.0781 - accuracy: 0.5099\n",
      "Epoch 3/10\n",
      "139/139 [==============================] - 650s 5s/step - loss: 0.0781 - accuracy: 0.4804\n",
      "Epoch 4/10\n",
      "139/139 [==============================] - 642s 5s/step - loss: 0.0781 - accuracy: 0.4483\n",
      "Epoch 5/10\n",
      "139/139 [==============================] - 645s 5s/step - loss: 0.0781 - accuracy: 0.4923\n",
      "Epoch 6/10\n",
      "139/139 [==============================] - 644s 5s/step - loss: 0.0781 - accuracy: 0.4831\n",
      "Epoch 7/10\n",
      "139/139 [==============================] - 643s 5s/step - loss: 0.0781 - accuracy: 0.5000\n",
      "Epoch 8/10\n",
      "139/139 [==============================] - 655s 5s/step - loss: 0.0781 - accuracy: 0.5162\n",
      "Epoch 9/10\n",
      "139/139 [==============================] - 640s 5s/step - loss: 0.0780 - accuracy: 0.4715\n",
      "Epoch 10/10\n",
      "139/139 [==============================] - 648s 5s/step - loss: 0.0780 - accuracy: 0.4759\n"
     ]
    }
   ],
   "source": [
    "if num_gpus < 2:\n",
    "    print(\"Not enough GPUs available. Training on a single GPU.\")\n",
    "    history_CNN = model_CNN_LSTM.fit(features_input, labels_input, epochs=10, batch_size=1024)# Train the model with GPU acceleration\n",
    "else:\n",
    "    #Use MirroredStrategy for multi-GPU training\n",
    "    with strategy.scope():\n",
    "        history_CNN = model_CNN_LSTM.fit(features_input, labels_input, epochs=10, batch_size=1024)# Train the model with GPU acceleration"
   ]
  },
  {
   "cell_type": "code",
   "execution_count": 28,
   "id": "f9d26d54",
   "metadata": {
    "execution": {
     "iopub.execute_input": "2023-08-20T14:32:21.403904Z",
     "iopub.status.busy": "2023-08-20T14:32:21.403246Z",
     "iopub.status.idle": "2023-08-20T14:32:22.224618Z",
     "shell.execute_reply": "2023-08-20T14:32:22.223327Z"
    },
    "papermill": {
     "duration": 0.989795,
     "end_time": "2023-08-20T14:32:22.227365",
     "exception": false,
     "start_time": "2023-08-20T14:32:21.237570",
     "status": "completed"
    },
    "tags": []
   },
   "outputs": [
    {
     "data": {
      "text/plain": [
       "<Axes: title={'center': 'Accuracy'}>"
      ]
     },
     "execution_count": 28,
     "metadata": {},
     "output_type": "execute_result"
    },
    {
     "data": {
      "image/png": "[encoded data removed]",
      "text/plain": [
       "<Figure size 640x480 with 1 Axes>"
      ]
     },
     "metadata": {},
     "output_type": "display_data"
    },
    {
     "data": {
      "image/png": "[encoded data removed]",
      "text/plain": [
       "<Figure size 640x480 with 1 Axes>"
      ]
     },
     "metadata": {},
     "output_type": "display_data"
    }
   ],
   "source": [
    "history_df = pd.DataFrame(history_CNN.history)\n",
    "history_df.loc[:, ['loss']].plot(title=\"Cross-entropy\")\n",
    "history_df.loc[:, ['accuracy']].plot(title=\"Accuracy\")"
   ]
  },
  {
   "cell_type": "code",
   "execution_count": 29,
   "id": "d2efebf8",
   "metadata": {
    "execution": {
     "iopub.execute_input": "2023-08-20T14:32:22.558814Z",
     "iopub.status.busy": "2023-08-20T14:32:22.558401Z",
     "iopub.status.idle": "2023-08-20T14:32:22.668264Z",
     "shell.execute_reply": "2023-08-20T14:32:22.666990Z"
    },
    "papermill": {
     "duration": 0.27616,
     "end_time": "2023-08-20T14:32:22.671088",
     "exception": false,
     "start_time": "2023-08-20T14:32:22.394928",
     "status": "completed"
    },
    "tags": []
   },
   "outputs": [],
   "source": [
    "from tensorflow.keras.models import save_model\n",
    "model_CNN_LSTM.save(\"model_CNN_LSTM.h5\")"
   ]
  },
  {
   "cell_type": "code",
   "execution_count": 30,
   "id": "8f8c8579",
   "metadata": {
    "execution": {
     "iopub.execute_input": "2023-08-20T14:32:22.990737Z",
     "iopub.status.busy": "2023-08-20T14:32:22.990324Z",
     "iopub.status.idle": "2023-08-20T14:32:23.478007Z",
     "shell.execute_reply": "2023-08-20T14:32:23.476544Z"
    },
    "papermill": {
     "duration": 0.651901,
     "end_time": "2023-08-20T14:32:23.480864",
     "exception": false,
     "start_time": "2023-08-20T14:32:22.828963",
     "status": "completed"
    },
    "tags": []
   },
   "outputs": [],
   "source": [
    "from tensorflow.keras.models import load_model\n",
    "model_CNN_LSTM = load_model(\"/kaggle/input/cafa5-test/model_CNN_LSTM.h5\")"
   ]
  },
  {
   "cell_type": "code",
   "execution_count": 31,
   "id": "35be3f09",
   "metadata": {
    "execution": {
     "iopub.execute_input": "2023-08-20T14:32:23.892059Z",
     "iopub.status.busy": "2023-08-20T14:32:23.891255Z",
     "iopub.status.idle": "2023-08-20T14:32:26.886013Z",
     "shell.execute_reply": "2023-08-20T14:32:26.884593Z"
    },
    "papermill": {
     "duration": 3.158289,
     "end_time": "2023-08-20T14:32:26.889766",
     "exception": false,
     "start_time": "2023-08-20T14:32:23.731477",
     "status": "completed"
    },
    "tags": []
   },
   "outputs": [
    {
     "name": "stdout",
     "output_type": "stream",
     "text": [
      "(141865, 1024)\n"
     ]
    }
   ],
   "source": [
    "import numpy as np\n",
    "import pandas as pd\n",
    "\n",
    "test_embeddings = np.load('/kaggle/input/t5embeds/test_embeds.npy')\n",
    "\n",
    "# Convert test_embeddings to dataframe\n",
    "column_num = test_embeddings.shape[1]\n",
    "test_df = pd.DataFrame(test_embeddings, columns = [\"Column_\" + str(i) for i in range(1, column_num+1)])\n",
    "print(test_df.shape)"
   ]
  },
  {
   "cell_type": "code",
   "execution_count": 32,
   "id": "22dcc526",
   "metadata": {
    "execution": {
     "iopub.execute_input": "2023-08-20T14:32:27.235861Z",
     "iopub.status.busy": "2023-08-20T14:32:27.235447Z",
     "iopub.status.idle": "2023-08-20T14:38:51.682746Z",
     "shell.execute_reply": "2023-08-20T14:38:51.681540Z"
    },
    "papermill": {
     "duration": 384.60936,
     "end_time": "2023-08-20T14:38:51.685792",
     "exception": false,
     "start_time": "2023-08-20T14:32:27.076432",
     "status": "completed"
    },
    "tags": []
   },
   "outputs": [
    {
     "name": "stdout",
     "output_type": "stream",
     "text": [
      "4434/4434 [==============================] - 347s 78ms/step\n"
     ]
    }
   ],
   "source": [
    "predictions =  model_CNN_LSTM.predict(test_df)"
   ]
  },
  {
   "cell_type": "code",
   "execution_count": 33,
   "id": "c917655f",
   "metadata": {
    "execution": {
     "iopub.execute_input": "2023-08-20T14:38:52.815568Z",
     "iopub.status.busy": "2023-08-20T14:38:52.814649Z",
     "iopub.status.idle": "2023-08-20T14:38:54.155535Z",
     "shell.execute_reply": "2023-08-20T14:38:54.154190Z"
    },
    "papermill": {
     "duration": 1.903846,
     "end_time": "2023-08-20T14:38:54.158273",
     "exception": false,
     "start_time": "2023-08-20T14:38:52.254427",
     "status": "completed"
    },
    "tags": []
   },
   "outputs": [
    {
     "data": {
      "text/plain": [
       "7444"
      ]
     },
     "execution_count": 33,
     "metadata": {},
     "output_type": "execute_result"
    }
   ],
   "source": [
    "import gc\n",
    "gc.collect()"
   ]
  },
  {
   "cell_type": "code",
   "execution_count": 34,
   "id": "6297870a",
   "metadata": {
    "execution": {
     "iopub.execute_input": "2023-08-20T14:38:55.378853Z",
     "iopub.status.busy": "2023-08-20T14:38:55.378446Z",
     "iopub.status.idle": "2023-08-20T14:38:55.387042Z",
     "shell.execute_reply": "2023-08-20T14:38:55.385695Z"
    },
    "papermill": {
     "duration": 0.574652,
     "end_time": "2023-08-20T14:38:55.389641",
     "exception": false,
     "start_time": "2023-08-20T14:38:54.814989",
     "status": "completed"
    },
    "tags": []
   },
   "outputs": [
    {
     "data": {
      "text/plain": [
       "array([[0.64271486, 0.6281419 , 0.63143694, ..., 0.00319658, 0.00307495,\n",
       "        0.00232623],\n",
       "       [0.64264005, 0.6281092 , 0.6313687 , ..., 0.00321077, 0.00308915,\n",
       "        0.00233714],\n",
       "       [0.64228445, 0.6279149 , 0.63104105, ..., 0.00326024, 0.00313713,\n",
       "        0.00237442],\n",
       "       ...,\n",
       "       [0.642946  , 0.62827134, 0.63181514, ..., 0.00314293, 0.00302077,\n",
       "        0.00228507],\n",
       "       [0.6432466 , 0.62848234, 0.6320897 , ..., 0.00309953, 0.00297868,\n",
       "        0.00225217],\n",
       "       [0.6428515 , 0.6283023 , 0.63177884, ..., 0.00315423, 0.00303144,\n",
       "        0.00229298]], dtype=float32)"
      ]
     },
     "execution_count": 34,
     "metadata": {},
     "output_type": "execute_result"
    }
   ],
   "source": [
    "predictions"
   ]
  },
  {
   "cell_type": "code",
   "execution_count": 35,
   "id": "34f59a1d",
   "metadata": {
    "execution": {
     "iopub.execute_input": "2023-08-20T14:38:56.522886Z",
     "iopub.status.busy": "2023-08-20T14:38:56.522466Z",
     "iopub.status.idle": "2023-08-20T14:38:57.368304Z",
     "shell.execute_reply": "2023-08-20T14:38:57.366837Z"
    },
    "papermill": {
     "duration": 1.410077,
     "end_time": "2023-08-20T14:38:57.371459",
     "exception": false,
     "start_time": "2023-08-20T14:38:55.961382",
     "status": "completed"
    },
    "tags": []
   },
   "outputs": [],
   "source": [
    "np.save(\"predictions.npy\", predictions)"
   ]
  },
  {
   "cell_type": "code",
   "execution_count": 36,
   "id": "7957b38b",
   "metadata": {
    "execution": {
     "iopub.execute_input": "2023-08-20T14:38:58.496347Z",
     "iopub.status.busy": "2023-08-20T14:38:58.495910Z",
     "iopub.status.idle": "2023-08-20T14:39:13.869763Z",
     "shell.execute_reply": "2023-08-20T14:39:13.868463Z"
    },
    "papermill": {
     "duration": 15.93768,
     "end_time": "2023-08-20T14:39:13.873005",
     "exception": false,
     "start_time": "2023-08-20T14:38:57.935325",
     "status": "completed"
    },
    "tags": []
   },
   "outputs": [],
   "source": [
    "import numpy as np\n",
    "import pandas as pd\n",
    "\n",
    "predictions = np.load(\"/kaggle/input/cafa5-test/predictions.npy\")\n",
    "test_protein_ids = np.load('/kaggle/input/t5embeds/test_ids.npy')\n",
    "train_terms = pd.read_csv('/kaggle/input/cafa-5-protein-function-prediction/Train/train_terms.tsv',sep='\\t')"
   ]
  },
  {
   "cell_type": "code",
   "execution_count": 37,
   "id": "34ebc6ec",
   "metadata": {
    "execution": {
     "iopub.execute_input": "2023-08-20T14:39:15.117695Z",
     "iopub.status.busy": "2023-08-20T14:39:15.117275Z",
     "iopub.status.idle": "2023-08-20T14:39:15.124867Z",
     "shell.execute_reply": "2023-08-20T14:39:15.123661Z"
    },
    "papermill": {
     "duration": 0.680516,
     "end_time": "2023-08-20T14:39:15.127368",
     "exception": false,
     "start_time": "2023-08-20T14:39:14.446852",
     "status": "completed"
    },
    "tags": []
   },
   "outputs": [
    {
     "data": {
      "text/plain": [
       "1500"
      ]
     },
     "execution_count": 37,
     "metadata": {},
     "output_type": "execute_result"
    }
   ],
   "source": [
    "predictions.shape[1]"
   ]
  },
  {
   "cell_type": "code",
   "execution_count": 38,
   "id": "166d608a",
   "metadata": {
    "execution": {
     "iopub.execute_input": "2023-08-20T14:39:16.252255Z",
     "iopub.status.busy": "2023-08-20T14:39:16.250732Z",
     "iopub.status.idle": "2023-08-20T14:39:16.258977Z",
     "shell.execute_reply": "2023-08-20T14:39:16.257803Z"
    },
    "papermill": {
     "duration": 0.571653,
     "end_time": "2023-08-20T14:39:16.261431",
     "exception": false,
     "start_time": "2023-08-20T14:39:15.689778",
     "status": "completed"
    },
    "tags": []
   },
   "outputs": [
    {
     "data": {
      "text/plain": [
       "(141865,)"
      ]
     },
     "execution_count": 38,
     "metadata": {},
     "output_type": "execute_result"
    }
   ],
   "source": [
    "test_protein_ids.shape"
   ]
  },
  {
   "cell_type": "code",
   "execution_count": 39,
   "id": "78d97921",
   "metadata": {
    "execution": {
     "iopub.execute_input": "2023-08-20T14:39:17.430718Z",
     "iopub.status.busy": "2023-08-20T14:39:17.429898Z",
     "iopub.status.idle": "2023-08-20T14:39:18.502278Z",
     "shell.execute_reply": "2023-08-20T14:39:18.500959Z"
    },
    "papermill": {
     "duration": 1.674828,
     "end_time": "2023-08-20T14:39:18.505788",
     "exception": false,
     "start_time": "2023-08-20T14:39:16.830960",
     "status": "completed"
    },
    "tags": []
   },
   "outputs": [],
   "source": [
    "# Take value counts in descending order and fetch first 1500 `GO term ID` as labels\n",
    "num_of_labels = 1500\n",
    "labels = train_terms['term'].value_counts().index[:num_of_labels].tolist()"
   ]
  },
  {
   "cell_type": "code",
   "execution_count": 40,
   "id": "bc2fbddb",
   "metadata": {
    "execution": {
     "iopub.execute_input": "2023-08-20T14:39:19.785405Z",
     "iopub.status.busy": "2023-08-20T14:39:19.784948Z",
     "iopub.status.idle": "2023-08-20T14:39:19.792351Z",
     "shell.execute_reply": "2023-08-20T14:39:19.791143Z"
    },
    "papermill": {
     "duration": 0.582468,
     "end_time": "2023-08-20T14:39:19.794685",
     "exception": false,
     "start_time": "2023-08-20T14:39:19.212217",
     "status": "completed"
    },
    "tags": []
   },
   "outputs": [
    {
     "data": {
      "text/plain": [
       "1500"
      ]
     },
     "execution_count": 40,
     "metadata": {},
     "output_type": "execute_result"
    }
   ],
   "source": [
    "len(labels)"
   ]
  },
  {
   "cell_type": "code",
   "execution_count": 41,
   "id": "ac8ffa43",
   "metadata": {
    "execution": {
     "iopub.execute_input": "2023-08-20T14:39:20.927399Z",
     "iopub.status.busy": "2023-08-20T14:39:20.926607Z",
     "iopub.status.idle": "2023-08-20T14:39:20.934627Z",
     "shell.execute_reply": "2023-08-20T14:39:20.933091Z"
    },
    "papermill": {
     "duration": 0.57605,
     "end_time": "2023-08-20T14:39:20.937615",
     "exception": false,
     "start_time": "2023-08-20T14:39:20.361565",
     "status": "completed"
    },
    "tags": []
   },
   "outputs": [],
   "source": [
    "df_submission = pd.DataFrame(columns = ['Protein Id', 'GO Term Id','Prediction'])"
   ]
  },
  {
   "cell_type": "code",
   "execution_count": 42,
   "id": "0b201741",
   "metadata": {
    "execution": {
     "iopub.execute_input": "2023-08-20T14:39:22.071413Z",
     "iopub.status.busy": "2023-08-20T14:39:22.070890Z",
     "iopub.status.idle": "2023-08-20T14:39:22.077213Z",
     "shell.execute_reply": "2023-08-20T14:39:22.075964Z"
    },
    "papermill": {
     "duration": 0.576328,
     "end_time": "2023-08-20T14:39:22.079591",
     "exception": false,
     "start_time": "2023-08-20T14:39:21.503263",
     "status": "completed"
    },
    "tags": []
   },
   "outputs": [
    {
     "name": "stdout",
     "output_type": "stream",
     "text": [
      "Q9CQV8\n"
     ]
    }
   ],
   "source": [
    "for i in test_protein_ids:\n",
    "    print(i)\n",
    "    break"
   ]
  },
  {
   "cell_type": "code",
   "execution_count": 43,
   "id": "7653aa45",
   "metadata": {
    "execution": {
     "iopub.execute_input": "2023-08-20T14:39:23.309783Z",
     "iopub.status.busy": "2023-08-20T14:39:23.308820Z",
     "iopub.status.idle": "2023-08-20T14:39:28.400896Z",
     "shell.execute_reply": "2023-08-20T14:39:28.399555Z"
    },
    "papermill": {
     "duration": 5.759113,
     "end_time": "2023-08-20T14:39:28.403896",
     "exception": false,
     "start_time": "2023-08-20T14:39:22.644783",
     "status": "completed"
    },
    "tags": []
   },
   "outputs": [],
   "source": [
    "l = []\n",
    "for k in list(test_protein_ids):\n",
    "    l += [ k] * predictions.shape[1]   "
   ]
  },
  {
   "cell_type": "code",
   "execution_count": 44,
   "id": "c1314d89",
   "metadata": {
    "execution": {
     "iopub.execute_input": "2023-08-20T14:39:29.526827Z",
     "iopub.status.busy": "2023-08-20T14:39:29.525947Z",
     "iopub.status.idle": "2023-08-20T14:39:29.533505Z",
     "shell.execute_reply": "2023-08-20T14:39:29.531942Z"
    },
    "papermill": {
     "duration": 0.568486,
     "end_time": "2023-08-20T14:39:29.536092",
     "exception": false,
     "start_time": "2023-08-20T14:39:28.967606",
     "status": "completed"
    },
    "tags": []
   },
   "outputs": [
    {
     "data": {
      "text/plain": [
       "212797500"
      ]
     },
     "execution_count": 44,
     "metadata": {},
     "output_type": "execute_result"
    }
   ],
   "source": [
    "len(l)"
   ]
  },
  {
   "cell_type": "code",
   "execution_count": 45,
   "id": "2f18b4f9",
   "metadata": {
    "execution": {
     "iopub.execute_input": "2023-08-20T14:39:30.666959Z",
     "iopub.status.busy": "2023-08-20T14:39:30.666500Z",
     "iopub.status.idle": "2023-08-20T14:41:11.291455Z",
     "shell.execute_reply": "2023-08-20T14:41:11.289842Z"
    },
    "papermill": {
     "duration": 101.194458,
     "end_time": "2023-08-20T14:41:11.294542",
     "exception": false,
     "start_time": "2023-08-20T14:39:30.100084",
     "status": "completed"
    },
    "tags": []
   },
   "outputs": [],
   "source": [
    "df_submission['Protein Id'] = l"
   ]
  },
  {
   "cell_type": "code",
   "execution_count": 46,
   "id": "82f231ad",
   "metadata": {
    "execution": {
     "iopub.execute_input": "2023-08-20T14:41:12.430085Z",
     "iopub.status.busy": "2023-08-20T14:41:12.429298Z",
     "iopub.status.idle": "2023-08-20T14:41:31.036795Z",
     "shell.execute_reply": "2023-08-20T14:41:31.035345Z"
    },
    "papermill": {
     "duration": 19.177481,
     "end_time": "2023-08-20T14:41:31.040089",
     "exception": false,
     "start_time": "2023-08-20T14:41:11.862608",
     "status": "completed"
    },
    "tags": []
   },
   "outputs": [],
   "source": [
    "df_submission['GO Term Id'] = labels * predictions.shape[0]"
   ]
  },
  {
   "cell_type": "code",
   "execution_count": 47,
   "id": "9cf3bb49",
   "metadata": {
    "execution": {
     "iopub.execute_input": "2023-08-20T14:41:32.276329Z",
     "iopub.status.busy": "2023-08-20T14:41:32.275507Z",
     "iopub.status.idle": "2023-08-20T14:58:02.607997Z",
     "shell.execute_reply": "2023-08-20T14:58:02.606324Z"
    },
    "papermill": {
     "duration": 990.900655,
     "end_time": "2023-08-20T14:58:02.611434",
     "exception": false,
     "start_time": "2023-08-20T14:41:31.710779",
     "status": "completed"
    },
    "tags": []
   },
   "outputs": [],
   "source": [
    "df_submission['Prediction'] = predictions.ravel()\n",
    "df_submission.to_csv(\"submission.tsv\",header=False, index=False, sep=\"\\t\")"
   ]
  }
 ],
 "metadata": {
  "kernelspec": {
   "display_name": "Python 3",
   "language": "python",
   "name": "python3"
  },
  "language_info": {
   "codemirror_mode": {
    "name": "ipython",
    "version": 3
   },
   "file_extension": ".py",
   "mimetype": "text/x-python",
   "name": "python",
   "nbconvert_exporter": "python",
   "pygments_lexer": "ipython3",
   "version": "3.10.12"
  },
  "papermill": {
   "default_parameters": {},
   "duration": 9368.992755,
   "end_time": "2023-08-20T14:58:06.636639",
   "environment_variables": {},
   "exception": null,
   "input_path": "__notebook__.ipynb",
   "output_path": "__notebook__.ipynb",
   "parameters": {},
   "start_time": "2023-08-20T12:21:57.643884",
   "version": "2.4.0"
  }
 },
 "nbformat": 4,
 "nbformat_minor": 5
}
